{
 "cells": [
  {
   "cell_type": "code",
   "execution_count": 1,
   "metadata": {},
   "outputs": [
    {
     "name": "stdout",
     "output_type": "stream",
     "text": [
      "Requirement already satisfied: pyautogen in ./.venv/lib/python3.11/site-packages (0.2.32)\n",
      "Requirement already satisfied: matplotlib in ./.venv/lib/python3.11/site-packages (3.9.1)\n",
      "Requirement already satisfied: yfinance in ./.venv/lib/python3.11/site-packages (0.2.40)\n",
      "Requirement already satisfied: diskcache in ./.venv/lib/python3.11/site-packages (from pyautogen) (5.6.3)\n",
      "Requirement already satisfied: docker in ./.venv/lib/python3.11/site-packages (from pyautogen) (7.1.0)\n",
      "Requirement already satisfied: flaml in ./.venv/lib/python3.11/site-packages (from pyautogen) (2.1.2)\n",
      "Requirement already satisfied: numpy<2,>=1.17.0 in ./.venv/lib/python3.11/site-packages (from pyautogen) (1.26.4)\n",
      "Requirement already satisfied: openai>=1.3 in ./.venv/lib/python3.11/site-packages (from pyautogen) (1.35.12)\n",
      "Requirement already satisfied: packaging in ./.venv/lib/python3.11/site-packages (from pyautogen) (23.2)\n",
      "Requirement already satisfied: pydantic!=2.6.0,<3,>=1.10 in ./.venv/lib/python3.11/site-packages (from pyautogen) (2.8.2)\n",
      "Requirement already satisfied: python-dotenv in ./.venv/lib/python3.11/site-packages (from pyautogen) (1.0.1)\n",
      "Requirement already satisfied: termcolor in ./.venv/lib/python3.11/site-packages (from pyautogen) (2.4.0)\n",
      "Requirement already satisfied: tiktoken in ./.venv/lib/python3.11/site-packages (from pyautogen) (0.7.0)\n",
      "Requirement already satisfied: contourpy>=1.0.1 in ./.venv/lib/python3.11/site-packages (from matplotlib) (1.2.1)\n",
      "Requirement already satisfied: cycler>=0.10 in ./.venv/lib/python3.11/site-packages (from matplotlib) (0.12.1)\n",
      "Requirement already satisfied: fonttools>=4.22.0 in ./.venv/lib/python3.11/site-packages (from matplotlib) (4.53.1)\n",
      "Requirement already satisfied: kiwisolver>=1.3.1 in ./.venv/lib/python3.11/site-packages (from matplotlib) (1.4.5)\n",
      "Requirement already satisfied: pillow>=8 in ./.venv/lib/python3.11/site-packages (from matplotlib) (10.4.0)\n",
      "Requirement already satisfied: pyparsing>=2.3.1 in ./.venv/lib/python3.11/site-packages (from matplotlib) (3.1.2)\n",
      "Requirement already satisfied: python-dateutil>=2.7 in ./.venv/lib/python3.11/site-packages (from matplotlib) (2.9.0.post0)\n",
      "Requirement already satisfied: pandas>=1.3.0 in ./.venv/lib/python3.11/site-packages (from yfinance) (2.2.2)\n",
      "Requirement already satisfied: requests>=2.31 in ./.venv/lib/python3.11/site-packages (from yfinance) (2.32.3)\n",
      "Requirement already satisfied: multitasking>=0.0.7 in ./.venv/lib/python3.11/site-packages (from yfinance) (0.0.11)\n",
      "Requirement already satisfied: lxml>=4.9.1 in ./.venv/lib/python3.11/site-packages (from yfinance) (5.2.2)\n",
      "Requirement already satisfied: platformdirs>=2.0.0 in ./.venv/lib/python3.11/site-packages (from yfinance) (4.2.2)\n",
      "Requirement already satisfied: pytz>=2022.5 in ./.venv/lib/python3.11/site-packages (from yfinance) (2024.1)\n",
      "Requirement already satisfied: frozendict>=2.3.4 in ./.venv/lib/python3.11/site-packages (from yfinance) (2.4.4)\n",
      "Requirement already satisfied: peewee>=3.16.2 in ./.venv/lib/python3.11/site-packages (from yfinance) (3.17.6)\n",
      "Requirement already satisfied: beautifulsoup4>=4.11.1 in ./.venv/lib/python3.11/site-packages (from yfinance) (4.12.3)\n",
      "Requirement already satisfied: html5lib>=1.1 in ./.venv/lib/python3.11/site-packages (from yfinance) (1.1)\n",
      "Requirement already satisfied: soupsieve>1.2 in ./.venv/lib/python3.11/site-packages (from beautifulsoup4>=4.11.1->yfinance) (2.5)\n",
      "Requirement already satisfied: six>=1.9 in ./.venv/lib/python3.11/site-packages (from html5lib>=1.1->yfinance) (1.16.0)\n",
      "Requirement already satisfied: webencodings in ./.venv/lib/python3.11/site-packages (from html5lib>=1.1->yfinance) (0.5.1)\n",
      "Requirement already satisfied: anyio<5,>=3.5.0 in ./.venv/lib/python3.11/site-packages (from openai>=1.3->pyautogen) (3.7.1)\n",
      "Requirement already satisfied: distro<2,>=1.7.0 in ./.venv/lib/python3.11/site-packages (from openai>=1.3->pyautogen) (1.9.0)\n",
      "Requirement already satisfied: httpx<1,>=0.23.0 in ./.venv/lib/python3.11/site-packages (from openai>=1.3->pyautogen) (0.27.0)\n",
      "Requirement already satisfied: sniffio in ./.venv/lib/python3.11/site-packages (from openai>=1.3->pyautogen) (1.3.1)\n",
      "Requirement already satisfied: tqdm>4 in ./.venv/lib/python3.11/site-packages (from openai>=1.3->pyautogen) (4.66.4)\n",
      "Requirement already satisfied: typing-extensions<5,>=4.7 in ./.venv/lib/python3.11/site-packages (from openai>=1.3->pyautogen) (4.12.2)\n",
      "Requirement already satisfied: tzdata>=2022.7 in ./.venv/lib/python3.11/site-packages (from pandas>=1.3.0->yfinance) (2024.1)\n",
      "Requirement already satisfied: annotated-types>=0.4.0 in ./.venv/lib/python3.11/site-packages (from pydantic!=2.6.0,<3,>=1.10->pyautogen) (0.7.0)\n",
      "Requirement already satisfied: pydantic-core==2.20.1 in ./.venv/lib/python3.11/site-packages (from pydantic!=2.6.0,<3,>=1.10->pyautogen) (2.20.1)\n",
      "Requirement already satisfied: charset-normalizer<4,>=2 in ./.venv/lib/python3.11/site-packages (from requests>=2.31->yfinance) (3.3.2)\n",
      "Requirement already satisfied: idna<4,>=2.5 in ./.venv/lib/python3.11/site-packages (from requests>=2.31->yfinance) (3.7)\n",
      "Requirement already satisfied: urllib3<3,>=1.21.1 in ./.venv/lib/python3.11/site-packages (from requests>=2.31->yfinance) (2.2.2)\n",
      "Requirement already satisfied: certifi>=2017.4.17 in ./.venv/lib/python3.11/site-packages (from requests>=2.31->yfinance) (2024.7.4)\n",
      "Requirement already satisfied: regex>=2022.1.18 in ./.venv/lib/python3.11/site-packages (from tiktoken->pyautogen) (2024.5.15)\n",
      "Requirement already satisfied: httpcore==1.* in ./.venv/lib/python3.11/site-packages (from httpx<1,>=0.23.0->openai>=1.3->pyautogen) (1.0.5)\n",
      "Requirement already satisfied: h11<0.15,>=0.13 in ./.venv/lib/python3.11/site-packages (from httpcore==1.*->httpx<1,>=0.23.0->openai>=1.3->pyautogen) (0.14.0)\n",
      "\n",
      "\u001b[1m[\u001b[0m\u001b[34;49mnotice\u001b[0m\u001b[1;39;49m]\u001b[0m\u001b[39;49m A new release of pip is available: \u001b[0m\u001b[31;49m23.3.1\u001b[0m\u001b[39;49m -> \u001b[0m\u001b[32;49m24.1.2\u001b[0m\n",
      "\u001b[1m[\u001b[0m\u001b[34;49mnotice\u001b[0m\u001b[1;39;49m]\u001b[0m\u001b[39;49m To update, run: \u001b[0m\u001b[32;49mpip install --upgrade pip\u001b[0m\n",
      "Note: you may need to restart the kernel to use updated packages.\n"
     ]
    }
   ],
   "source": [
    "%pip install pyautogen matplotlib yfinance"
   ]
  },
  {
   "cell_type": "code",
   "execution_count": 2,
   "metadata": {},
   "outputs": [
    {
     "name": "stderr",
     "output_type": "stream",
     "text": [
      "/home/andy/works/openai/autogen_sample/.venv/lib/python3.11/site-packages/tqdm/auto.py:21: TqdmWarning: IProgress not found. Please update jupyter and ipywidgets. See https://ipywidgets.readthedocs.io/en/stable/user_install.html\n",
      "  from .autonotebook import tqdm as notebook_tqdm\n"
     ]
    }
   ],
   "source": [
    "from IPython.display import Image, display\n",
    "\n",
    "import autogen\n",
    "from autogen.coding import LocalCommandLineCodeExecutor\n",
    "\n",
    "config_list = autogen.config_list_from_json(\n",
    "    env_or_file=\"OAI_CONFIG_LIST.json\",\n",
    ")"
   ]
  },
  {
   "cell_type": "code",
   "execution_count": 3,
   "metadata": {},
   "outputs": [
    {
     "name": "stdout",
     "output_type": "stream",
     "text": [
      "\u001b[33muser_proxy\u001b[0m (to assistant):\n",
      "\n",
      "오늘은 며칠인가요? META와 TESLA의 연간 누적 수익률을 비교하세요.\n",
      "\n",
      "--------------------------------------------------------------------------------\n"
     ]
    },
    {
     "name": "stdout",
     "output_type": "stream",
     "text": [
      "\u001b[33massistant\u001b[0m (to user_proxy):\n",
      "\n",
      "오늘 날짜를 확인하고 META와 TESLA의 연간 누적 수익률을 비교하는 파이썬 코드를 작성하겠습니다. 이를 위해 `yfinance` 라이브러리를 사용하여 주식 데이터를 가져오고, `pandas`와 `datetime` 라이브러리를 사용하여 데이터를 처리하겠습니다.\n",
      "\n",
      "먼저 필요한 라이브러리를 설치해야 합니다:\n",
      "```bash\n",
      "pip install yfinance pandas\n",
      "```\n",
      "\n",
      "이제 파이썬 코드를 작성하겠습니다:\n",
      "\n",
      "```python\n",
      "import yfinance as yf\n",
      "import pandas as pd\n",
      "from datetime import datetime\n",
      "\n",
      "# 오늘 날짜를 확인합니다.\n",
      "today = datetime.today().strftime('%Y-%m-%d')\n",
      "print(f\"오늘 날짜는 {today}입니다.\")\n",
      "\n",
      "# 연초 날짜를 설정합니다.\n",
      "start_date = f\"{datetime.today().year}-01-01\"\n",
      "\n",
      "# META와 TSLA의 주식 데이터를 가져옵니다.\n",
      "meta = yf.Ticker(\"META\")\n",
      "tesla = yf.Ticker(\"TSLA\")\n",
      "\n",
      "# 연초부터 오늘까지의 주식 데이터를 다운로드합니다.\n",
      "meta_data = meta.history(start=start_date, end=today)\n",
      "tesla_data = tesla.history(start=start_date, end=today)\n",
      "\n",
      "# 연초 대비 누적 수익률을 계산합니다.\n",
      "meta_cumulative_return = (meta_data['Close'][-1] / meta_data['Close'][0] - 1) * 100\n",
      "tesla_cumulative_return = (tesla_data['Close'][-1] / tesla_data['Close'][0] - 1) * 100\n",
      "\n",
      "print(f\"META의 연간 누적 수익률: {meta_cumulative_return:.2f}%\")\n",
      "print(f\"TESLA의 연간 누적 수익률: {tesla_cumulative_return:.2f}%\")\n",
      "```\n",
      "\n",
      "이 코드는 오늘 날짜를 출력하고, 연초부터 오늘까지의 META와 TESLA 주식의 누적 수익률을 계산하여 출력합니다. \n",
      "\n",
      "TERMINATE\n",
      "\n",
      "--------------------------------------------------------------------------------\n"
     ]
    }
   ],
   "source": [
    "\n",
    "assistant = autogen.AssistantAgent(\n",
    "    name=\"assistant\",\n",
    "    llm_config={\n",
    "        \"config_list\": config_list,\n",
    "        \"temperature\": 0, \n",
    "    }, \n",
    "    system_message=\"당신은 파이썬 코드를 전문적으로 만드는 에이전트입니다. 코드를 생성하고 오류가 있으면 수정하세요. 답변이 완료되면 TERMINATE를 응답하세요\",\n",
    ")\n",
    "\n",
    "\n",
    "user_proxy = autogen.UserProxyAgent(\n",
    "    name=\"user_proxy\",\n",
    "    human_input_mode=\"NEVER\",\n",
    "    max_consecutive_auto_reply=10,\n",
    "    is_termination_msg=lambda x: x.get(\"content\", \"\").rstrip().endswith(\"TERMINATE\"),\n",
    "    code_execution_config={\n",
    "        # the executor to run the generated code\n",
    "        \"executor\": LocalCommandLineCodeExecutor(work_dir=\"coding\"),\n",
    "    },\n",
    ")\n",
    "\n",
    "chat_res = user_proxy.initiate_chat(\n",
    "    assistant,\n",
    "    message=\"\"\"오늘은 며칠인가요? META와 TESLA의 연간 누적 수익률을 비교하세요.\"\"\",\n",
    "    summary_method=\"reflection_with_llm\",\n",
    ")"
   ]
  },
  {
   "cell_type": "code",
   "execution_count": 4,
   "metadata": {},
   "outputs": [
    {
     "name": "stdout",
     "output_type": "stream",
     "text": [
      "Chat history: [{'content': '오늘은 며칠인가요? META와 TESLA의 연간 누적 수익률을 비교하세요.', 'role': 'assistant'}, {'content': '오늘 날짜를 확인하고 META와 TESLA의 연간 누적 수익률을 비교하는 파이썬 코드를 작성하겠습니다. 이를 위해 `yfinance` 라이브러리를 사용하여 주식 데이터를 가져오고, `pandas`와 `datetime` 라이브러리를 사용하여 데이터를 처리하겠습니다.\\n\\n먼저 필요한 라이브러리를 설치해야 합니다:\\n```bash\\npip install yfinance pandas\\n```\\n\\n이제 파이썬 코드를 작성하겠습니다:\\n\\n```python\\nimport yfinance as yf\\nimport pandas as pd\\nfrom datetime import datetime\\n\\n# 오늘 날짜를 확인합니다.\\ntoday = datetime.today().strftime(\\'%Y-%m-%d\\')\\nprint(f\"오늘 날짜는 {today}입니다.\")\\n\\n# 연초 날짜를 설정합니다.\\nstart_date = f\"{datetime.today().year}-01-01\"\\n\\n# META와 TSLA의 주식 데이터를 가져옵니다.\\nmeta = yf.Ticker(\"META\")\\ntesla = yf.Ticker(\"TSLA\")\\n\\n# 연초부터 오늘까지의 주식 데이터를 다운로드합니다.\\nmeta_data = meta.history(start=start_date, end=today)\\ntesla_data = tesla.history(start=start_date, end=today)\\n\\n# 연초 대비 누적 수익률을 계산합니다.\\nmeta_cumulative_return = (meta_data[\\'Close\\'][-1] / meta_data[\\'Close\\'][0] - 1) * 100\\ntesla_cumulative_return = (tesla_data[\\'Close\\'][-1] / tesla_data[\\'Close\\'][0] - 1) * 100\\n\\nprint(f\"META의 연간 누적 수익률: {meta_cumulative_return:.2f}%\")\\nprint(f\"TESLA의 연간 누적 수익률: {tesla_cumulative_return:.2f}%\")\\n```\\n\\n이 코드는 오늘 날짜를 출력하고, 연초부터 오늘까지의 META와 TESLA 주식의 누적 수익률을 계산하여 출력합니다. \\n\\nTERMINATE', 'role': 'user'}]\n",
      "Summary: The conversation provides a Python code example to check today's date and compare the annual cumulative returns of META and TESLA stocks using the `yfinance` library. The code calculates the cumulative returns from the start of the year to the current date and prints the results.\n",
      "Cost info: {'usage_including_cached_inference': {'total_cost': 0.009614999999999999, 'gpt-4o-2024-05-13': {'cost': 0.009614999999999999, 'prompt_tokens': 540, 'completion_tokens': 461, 'total_tokens': 1001}}, 'usage_excluding_cached_inference': {'total_cost': 0}}\n"
     ]
    }
   ],
   "source": [
    "print(\"Chat history:\", chat_res.chat_history)\n",
    "\n",
    "print(\"Summary:\", chat_res.summary)\n",
    "print(\"Cost info:\", chat_res.cost)"
   ]
  },
  {
   "cell_type": "code",
   "execution_count": 5,
   "metadata": {},
   "outputs": [
    {
     "name": "stdout",
     "output_type": "stream",
     "text": [
      "\u001b[33muser_proxy\u001b[0m (to assistant):\n",
      "\n",
      "연간 주가 변동 차트를 플롯합니다. 데이터를 stock_price_ytd.csv에 저장하고 플롯을 stock_price_ytd.png에 저장합니다.\n",
      "\n",
      "--------------------------------------------------------------------------------\n",
      "\u001b[33massistant\u001b[0m (to user_proxy):\n",
      "\n",
      "연간 주가 변동 차트를 플롯하고 데이터를 CSV 파일에 저장하며, 플롯을 PNG 파일로 저장하는 코드를 작성하겠습니다. 이를 위해 `matplotlib` 라이브러리를 사용하여 차트를 그리겠습니다.\n",
      "\n",
      "필요한 라이브러리를 설치합니다:\n",
      "```bash\n",
      "pip install yfinance pandas matplotlib\n",
      "```\n",
      "\n",
      "이제 파이썬 코드를 작성하겠습니다:\n",
      "\n",
      "```python\n",
      "import yfinance as yf\n",
      "import pandas as pd\n",
      "from datetime import datetime\n",
      "import matplotlib.pyplot as plt\n",
      "\n",
      "# 오늘 날짜를 확인합니다.\n",
      "today = datetime.today().strftime('%Y-%m-%d')\n",
      "print(f\"오늘 날짜는 {today}입니다.\")\n",
      "\n",
      "# 연초 날짜를 설정합니다.\n",
      "start_date = f\"{datetime.today().year}-01-01\"\n",
      "\n",
      "# META와 TSLA의 주식 데이터를 가져옵니다.\n",
      "meta = yf.Ticker(\"META\")\n",
      "tesla = yf.Ticker(\"TSLA\")\n",
      "\n",
      "# 연초부터 오늘까지의 주식 데이터를 다운로드합니다.\n",
      "meta_data = meta.history(start=start_date, end=today)\n",
      "tesla_data = tesla.history(start=start_date, end=today)\n",
      "\n",
      "# 데이터프레임에 종가 데이터를 저장합니다.\n",
      "df = pd.DataFrame({\n",
      "    'Date': meta_data.index,\n",
      "    'META_Close': meta_data['Close'],\n",
      "    'TSLA_Close': tesla_data['Close']\n",
      "})\n",
      "\n",
      "# 데이터를 CSV 파일로 저장합니다.\n",
      "df.to_csv('stock_price_ytd.csv', index=False)\n",
      "\n",
      "# 연초 대비 누적 수익률을 계산합니다.\n",
      "meta_cumulative_return = (meta_data['Close'][-1] / meta_data['Close'][0] - 1) * 100\n",
      "tesla_cumulative_return = (tesla_data['Close'][-1] / tesla_data['Close'][0] - 1) * 100\n",
      "\n",
      "print(f\"META의 연간 누적 수익률: {meta_cumulative_return:.2f}%\")\n",
      "print(f\"TESLA의 연간 누적 수익률: {tesla_cumulative_return:.2f}%\")\n",
      "\n",
      "# 주가 변동 차트를 플롯합니다.\n",
      "plt.figure(figsize=(14, 7))\n",
      "plt.plot(meta_data.index, meta_data['Close'], label='META')\n",
      "plt.plot(tesla_data.index, tesla_data['Close'], label='TESLA')\n",
      "plt.title('META vs TESLA Year-to-Date Stock Prices')\n",
      "plt.xlabel('Date')\n",
      "plt.ylabel('Stock Price (USD)')\n",
      "plt.legend()\n",
      "plt.grid(True)\n",
      "\n",
      "# 플롯을 PNG 파일로 저장합니다.\n",
      "plt.savefig('stock_price_ytd.png')\n",
      "plt.show()\n",
      "```\n",
      "\n",
      "이 코드는 다음과 같은 작업을 수행합니다:\n",
      "1. 오늘 날짜를 확인합니다.\n",
      "2. 연초부터 오늘까지의 META와 TESLA 주식 데이터를 다운로드합니다.\n",
      "3. 데이터를 `stock_price_ytd.csv` 파일에 저장합니다.\n",
      "4. 연초 대비 누적 수익률을 계산하여 출력합니다.\n",
      "5. 주가 변동 차트를 플롯하고 `stock_price_ytd.png` 파일로 저장합니다.\n",
      "\n",
      "TERMINATE\n",
      "\n",
      "--------------------------------------------------------------------------------\n"
     ]
    }
   ],
   "source": [
    "user_proxy.send(\n",
    "    recipient=assistant,\n",
    "    message=\"\"\"연간 주가 변동 차트를 플롯합니다. 데이터를 stock_price_ytd.csv에 저장하고 플롯을 stock_price_ytd.png에 저장합니다.\"\"\",\n",
    ")"
   ]
  },
  {
   "cell_type": "code",
   "execution_count": 6,
   "metadata": {},
   "outputs": [
    {
     "name": "stdout",
     "output_type": "stream",
     "text": [
      "Image not found. Please check the file name and modify if necessary.\n"
     ]
    }
   ],
   "source": [
    "try:\n",
    "    image = Image(filename=\"coding/stock_price_ytd.png\")\n",
    "    display(image)\n",
    "except FileNotFoundError:\n",
    "    print(\"Image not found. Please check the file name and modify if necessary.\")"
   ]
  },
  {
   "cell_type": "code",
   "execution_count": 7,
   "metadata": {},
   "outputs": [
    {
     "name": "stdout",
     "output_type": "stream",
     "text": [
      "File not found. Please check the file name and modify if necessary.\n"
     ]
    }
   ],
   "source": [
    "# Path to your CSV file\n",
    "file_path = \"coding/stock_price_ytd.csv\"\n",
    "try:\n",
    "    with open(file_path, mode=\"r\", encoding=\"utf-8\") as file:\n",
    "        # Read each line in the file\n",
    "        for line in file:\n",
    "            # Split the line into a list using the comma as a separator\n",
    "            row = line.strip().split(\",\")\n",
    "            # Print the list representing the current row\n",
    "            print(row)\n",
    "except FileNotFoundError:\n",
    "    print(\"File not found. Please check the file name and modify if necessary.\")"
   ]
  },
  {
   "cell_type": "markdown",
   "metadata": {},
   "source": [
    "## Example Task: Use User Defined Message Function to let Agents Analyze data Collected"
   ]
  },
  {
   "cell_type": "code",
   "execution_count": 8,
   "metadata": {},
   "outputs": [
    {
     "name": "stdout",
     "output_type": "stream",
     "text": [
      "\u001b[33muser_proxy\u001b[0m (to assistant):\n",
      "\n",
      "데이터를 분석하고 간단하지만 매력적인 블로그 게시물을 작성하세요.. \n",
      " Data: \n",
      "No data found.\n",
      "\n",
      "--------------------------------------------------------------------------------\n",
      "\u001b[33massistant\u001b[0m (to user_proxy):\n",
      "\n",
      "데이터가 없기 때문에 데이터 분석을 수행할 수 없습니다. 그러나 데이터 분석의 중요성과 일반적인 절차에 대해 설명하는 블로그 게시물을 작성할 수 있습니다. 아래는 그 예입니다.\n",
      "\n",
      "---\n",
      "\n",
      "# 데이터 분석의 중요성과 기본 절차\n",
      "\n",
      "데이터 분석은 현대 비즈니스와 과학 연구에서 필수적인 도구로 자리 잡았습니다. 데이터 분석을 통해 우리는 복잡한 문제를 이해하고, 중요한 결정을 내리며, 미래를 예측할 수 있습니다. 이 블로그 게시물에서는 데이터 분석의 중요성과 기본 절차에 대해 알아보겠습니다.\n",
      "\n",
      "## 데이터 분석의 중요성\n",
      "\n",
      "1. **의사 결정 지원**: 데이터 분석은 경영진이 더 나은 결정을 내릴 수 있도록 도와줍니다. 예를 들어, 판매 데이터를 분석하여 어떤 제품이 가장 잘 팔리는지, 어떤 마케팅 전략이 효과적인지 알 수 있습니다.\n",
      "\n",
      "2. **효율성 향상**: 데이터 분석을 통해 비효율적인 프로세스를 식별하고 개선할 수 있습니다. 이는 비용 절감과 생산성 향상으로 이어질 수 있습니다.\n",
      "\n",
      "3. **미래 예측**: 과거 데이터를 분석하여 미래의 트렌드를 예측할 수 있습니다. 이는 기업이 시장 변화에 신속하게 대응할 수 있도록 도와줍니다.\n",
      "\n",
      "4. **문제 해결**: 데이터 분석은 문제의 근본 원인을 파악하고 해결책을 찾는 데 도움을 줍니다. 예를 들어, 고객 불만 데이터를 분석하여 서비스 개선 방안을 도출할 수 있습니다.\n",
      "\n",
      "## 데이터 분석의 기본 절차\n",
      "\n",
      "데이터 분석은 일반적으로 다음과 같은 단계로 이루어집니다.\n",
      "\n",
      "1. **문제 정의**: 분석할 문제를 명확히 정의합니다. 이는 분석의 방향을 결정하는 중요한 단계입니다.\n",
      "\n",
      "2. **데이터 수집**: 문제를 해결하기 위해 필요한 데이터를 수집합니다. 데이터는 내부 시스템, 외부 데이터베이스, 설문 조사 등을 통해 얻을 수 있습니다.\n",
      "\n",
      "3. **데이터 정제**: 수집한 데이터에서 오류나 결측값을 제거하고, 분석에 적합한 형태로 변환합니다.\n",
      "\n",
      "4. **데이터 탐색**: 데이터의 기본적인 특성을 이해하기 위해 탐색적 데이터 분석(EDA)을 수행합니다. 이를 통해 데이터의 분포, 이상치, 상관관계 등을 파악할 수 있습니다.\n",
      "\n",
      "5. **모델링**: 분석 목표에 맞는 통계적 모델이나 머신러닝 알고리즘을 적용합니다. 예를 들어, 예측 모델을 만들거나 군집 분석을 수행할 수 있습니다.\n",
      "\n",
      "6. **결과 해석**: 모델의 결과를 해석하고, 이를 바탕으로 인사이트를 도출합니다. 결과는 시각화 도구를 사용하여 쉽게 이해할 수 있도록 표현합니다.\n",
      "\n",
      "7. **의사 결정**: 분석 결과를 바탕으로 의사 결정을 내립니다. 이는 전략 수립, 문제 해결, 성과 평가 등에 활용될 수 있습니다.\n",
      "\n",
      "## 결론\n",
      "\n",
      "데이터 분석은 현대 사회에서 매우 중요한 역할을 합니다. 이를 통해 우리는 더 나은 결정을 내리고, 효율성을 높이며, 미래를 예측할 수 있습니다. 데이터 분석의 기본 절차를 이해하고 이를 실천에 옮긴다면, 누구나 데이터 기반의 인사이트를 얻을 수 있을 것입니다.\n",
      "\n",
      "---\n",
      "\n",
      "이와 같은 블로그 게시물은 데이터 분석의 중요성과 절차를 독자에게 쉽게 전달할 수 있습니다. 데이터가 주어지면, 이를 바탕으로 구체적인 분석 결과를 포함한 블로그 게시물을 작성할 수 있습니다.\n",
      "\n",
      "TERMINATE\n",
      "\n",
      "--------------------------------------------------------------------------------\n"
     ]
    }
   ],
   "source": [
    "def my_message_generator(sender, recipient, context):\n",
    "    # your CSV file\n",
    "    file_name = context.get(\"file_name\")\n",
    "    try:\n",
    "        with open(file_name, mode=\"r\", encoding=\"utf-8\") as file:\n",
    "            file_content = file.read()\n",
    "    except FileNotFoundError:\n",
    "        file_content = \"No data found.\"\n",
    "    return \"데이터를 분석하고 간단하지만 매력적인 블로그 게시물을 작성하세요.. \\n Data: \\n\" + file_content\n",
    "\n",
    "\n",
    "# followup of the previous question\n",
    "chat_res = user_proxy.initiate_chat(\n",
    "    recipient=assistant,\n",
    "    message=my_message_generator,\n",
    "    file_name=\"coding/stock_price_ytd.csv\",\n",
    "    summary_method=\"reflection_with_llm\",\n",
    "    summary_args={\"summary_prompt\": \"마크다운형태로 블로그 포스트를 한국어로 반환해줘\"},\n",
    ")\n",
    "\n"
   ]
  },
  {
   "cell_type": "code",
   "execution_count": 9,
   "metadata": {},
   "outputs": [
    {
     "name": "stdout",
     "output_type": "stream",
     "text": [
      "---\n",
      "\n",
      "# 데이터 분석의 중요성과 기본 절차\n",
      "\n",
      "데이터 분석은 현대 비즈니스와 과학 연구에서 필수적인 도구로 자리 잡았습니다. 데이터 분석을 통해 우리는 복잡한 문제를 이해하고, 중요한 결정을 내리며, 미래를 예측할 수 있습니다. 이 블로그 게시물에서는 데이터 분석의 중요성과 기본 절차에 대해 알아보겠습니다.\n",
      "\n",
      "## 데이터 분석의 중요성\n",
      "\n",
      "1. **의사 결정 지원**: 데이터 분석은 경영진이 더 나은 결정을 내릴 수 있도록 도와줍니다. 예를 들어, 판매 데이터를 분석하여 어떤 제품이 가장 잘 팔리는지, 어떤 마케팅 전략이 효과적인지 알 수 있습니다.\n",
      "\n",
      "2. **효율성 향상**: 데이터 분석을 통해 비효율적인 프로세스를 식별하고 개선할 수 있습니다. 이는 비용 절감과 생산성 향상으로 이어질 수 있습니다.\n",
      "\n",
      "3. **미래 예측**: 과거 데이터를 분석하여 미래의 트렌드를 예측할 수 있습니다. 이는 기업이 시장 변화에 신속하게 대응할 수 있도록 도와줍니다.\n",
      "\n",
      "4. **문제 해결**: 데이터 분석은 문제의 근본 원인을 파악하고 해결책을 찾는 데 도움을 줍니다. 예를 들어, 고객 불만 데이터를 분석하여 서비스 개선 방안을 도출할 수 있습니다.\n",
      "\n",
      "## 데이터 분석의 기본 절차\n",
      "\n",
      "데이터 분석은 일반적으로 다음과 같은 단계로 이루어집니다.\n",
      "\n",
      "1. **문제 정의**: 분석할 문제를 명확히 정의합니다. 이는 분석의 방향을 결정하는 중요한 단계입니다.\n",
      "\n",
      "2. **데이터 수집**: 문제를 해결하기 위해 필요한 데이터를 수집합니다. 데이터는 내부 시스템, 외부 데이터베이스, 설문 조사 등을 통해 얻을 수 있습니다.\n",
      "\n",
      "3. **데이터 정제**: 수집한 데이터에서 오류나 결측값을 제거하고, 분석에 적합한 형태로 변환합니다.\n",
      "\n",
      "4. **데이터 탐색**: 데이터의 기본적인 특성을 이해하기 위해 탐색적 데이터 분석(EDA)을 수행합니다. 이를 통해 데이터의 분포, 이상치, 상관관계 등을 파악할 수 있습니다.\n",
      "\n",
      "5. **모델링**: 분석 목표에 맞는 통계적 모델이나 머신러닝 알고리즘을 적용합니다. 예를 들어, 예측 모델을 만들거나 군집 분석을 수행할 수 있습니다.\n",
      "\n",
      "6. **결과 해석**: 모델의 결과를 해석하고, 이를 바탕으로 인사이트를 도출합니다. 결과는 시각화 도구를 사용하여 쉽게 이해할 수 있도록 표현합니다.\n",
      "\n",
      "7. **의사 결정**: 분석 결과를 바탕으로 의사 결정을 내립니다. 이는 전략 수립, 문제 해결, 성과 평가 등에 활용될 수 있습니다.\n",
      "\n",
      "## 결론\n",
      "\n",
      "데이터 분석은 현대 사회에서 매우 중요한 역할을 합니다. 이를 통해 우리는 더 나은 결정을 내리고, 효율성을 높이며, 미래를 예측할 수 있습니다. 데이터 분석의 기본 절차를 이해하고 이를 실천에 옮긴다면, 누구나 데이터 기반의 인사이트를 얻을 수 있을 것입니다.\n",
      "\n",
      "---\n",
      "\n",
      "이와 같은 블로그 게시물은 데이터 분석의 중요성과 절차를 독자에게 쉽게 전달할 수 있습니다. 데이터가 주어지면, 이를 바탕으로 구체적인 분석 결과를 포함한 블로그 게시물을 작성할 수 있습니다.\n"
     ]
    }
   ],
   "source": [
    "print(chat_res.summary)\n",
    "\n"
   ]
  },
  {
   "cell_type": "markdown",
   "metadata": {},
   "source": [
    "# Meta와 Tesla 주식 분석: 2024년 상반기\n",
    "\n",
    "2024년 상반기 동안 Meta와 Tesla의 주식 가격은 큰 변동을 보였습니다. 이 블로그 게시물에서는 두 회사의 주식 가격 변동을 분석하고, 주요 트렌드와 주목할 만한 사건들을 살펴보겠습니다.\n",
    "\n",
    "## Meta 주식 분석\n",
    "\n",
    "Meta의 주식은 2024년 1월 2일에 $345.58로 시작하여 7월 16일에 $256.56로 마감했습니다. 이 기간 동안 Meta의 주식은 꾸준히 상승세를 보였으며, 특히 2월과 3월에 큰 폭으로 상승했습니다.\n",
    "\n",
    "### 주요 트렌드\n",
    "\n",
    "1. **1월 상승세**: 1월 초 Meta의 주식은 $345.58에서 $400.20로 상승했습니다. 이는 Meta의 새로운 제품 출시와 관련된 긍정적인 뉴스 덕분일 가능성이 큽니다.\n",
    "2. **2월 급등**: 2월 2일 Meta의 주식은 $474.02로 급등했습니다. 이는 Meta의 분기 실적 발표와 관련된 긍정적인 반응 때문일 수 있습니다.\n",
    "3. **3월 안정세**: 3월에는 주식 가격이 $500대를 유지하며 안정세를 보였습니다.\n",
    "4. **4월 하락세**: 4월 말부터 주식 가격이 하락하기 시작하여 5월 초에는 $440대로 떨어졌습니다. 이는 시장의 불확실성과 관련된 뉴스 때문일 수 있습니다.\n",
    "5. **6월 회복세**: 6월에는 다시 주식 가격이 상승하여 $500대를 회복했습니다.\n",
    "\n",
    "## Tesla 주식 분석\n",
    "\n",
    "Tesla의 주식은 2024년 1월 2일에 $248.42로 시작하여 7월 16일에 $256.56로 마감했습니다. Tesla의 주식은 Meta와 달리 큰 변동을 보였으며, 특히 3월과 4월에 큰 폭으로 하락했습니다.\n",
    "\n",
    "### 주요 트렌드\n",
    "\n",
    "1. **1월 하락세**: 1월 초 Tesla의 주식은 $248.42에서 $190.93로 하락했습니다. 이는 Tesla의 생산 문제와 관련된 뉴스 때문일 수 있습니다.\n",
    "2. **2월 회복세**: 2월에는 주식 가격이 다시 상승하여 $202.64로 회복했습니다.\n",
    "3. **3월 급락**: 3월에는 주식 가격이 $162.50로 급락했습니다. 이는 Tesla의 분기 실적 발표와 관련된 부정적인 반응 때문일 수 있습니다.\n",
    "...\n",
    "\n",
    "2024년 상반기 동안 Meta와 Tesla의 주식은 각각 다른 경로를 보였습니다. Meta는 전반적으로 상승세를 보였으며, 특히 2월과 3월에 큰 폭으로 상승했습니다. 반면 Tesla는 큰 변동을 보였으며, 특히 3월과 4월에 큰 폭으로 하락했습니다.\n",
    "\n",
    "이러한 주식 가격 변동은 각 회사의 실적 발표, 제품 출시, 시장의 불확실성 등 다양한 요인에 의해 영향을 받았습니다. 투자자들은 이러한 요인들을 주의 깊게 살펴보고, 신중한 투자 결정을 내리는 것이 중요합니다.\n",
    "Output is truncated. View as a scrollable element or open in a text editor. Adjust cell output settings..."
   ]
  }
 ],
 "metadata": {
  "kernelspec": {
   "display_name": ".venv",
   "language": "python",
   "name": "python3"
  },
  "language_info": {
   "codemirror_mode": {
    "name": "ipython",
    "version": 3
   },
   "file_extension": ".py",
   "mimetype": "text/x-python",
   "name": "python",
   "nbconvert_exporter": "python",
   "pygments_lexer": "ipython3",
   "version": "3.11.6"
  }
 },
 "nbformat": 4,
 "nbformat_minor": 2
}
